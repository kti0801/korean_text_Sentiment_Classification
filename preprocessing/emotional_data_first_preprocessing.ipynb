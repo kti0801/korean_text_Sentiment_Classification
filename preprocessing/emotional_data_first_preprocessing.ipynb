{
  "cells": [
    {
      "cell_type": "markdown",
      "metadata": {
        "id": "q7Dsxz-BraUs"
      },
      "source": [
        "## 필요한 패키지"
      ]
    },
    {
      "cell_type": "code",
      "execution_count": 2,
      "metadata": {
        "colab": {
          "base_uri": "https://localhost:8080/"
        },
        "id": "fsAIBqRyqjrs",
        "outputId": "0a238463-6e75-488d-b87a-38b75504b8cf"
      },
      "outputs": [],
      "source": [
        "import numpy as np\n",
        "import pandas as pd\n",
        "import re\n",
        "import csv"
      ]
    },
    {
      "cell_type": "markdown",
      "metadata": {
        "id": "GbgGkRyhrLKZ"
      },
      "source": [
        "## AI Hub 감성대화 말뭉치 데이터\n",
        "\n",
        "출처 : https://www.aihub.or.kr/aihubdata/data/view.do?currMenu=115&topMenu=100&aihubDataSe=data&dataSetSn=86\n",
        "\n",
        "불안    10433\n",
        "분노    10417\n",
        "상처    10150\n",
        "슬픔    10128\n",
        "당황     9804\n",
        "기쁨     7339\n",
        "\n",
        "## AI Hub 한국어 단발성,연속적 대화 데이터셋\n",
        "출처 : https://aihub.or.kr/aihubdata/data/view.do?dataSetSn=271\n",
        "\n",
        "행복    6037\n",
        "놀람    5898\n",
        "분노    5665\n",
        "공포    5468\n",
        "혐오    5429\n",
        "슬픔    5267\n",
        "중립    4830\n",
        "\n",
        "출처 : https://aihub.or.kr/aihubdata/data/view.do?dataSetSn=270"
      ]
    },
    {
      "cell_type": "code",
      "execution_count": 3,
      "metadata": {
        "id": "E_gq9a7eq4po"
      },
      "outputs": [],
      "source": [
        "# 엑셀 파일 읽기\n",
        "df1 = pd.read_excel('/home/kdt-admin/data/감성대화말뭉치(최종데이터)_Training.xlsx',index_col=0)  # traing_data 51630\n",
        "df2 = pd.read_excel('/home/kdt-admin/data/감성대화말뭉치(최종데이터)_Validation.xlsx',index_col=0)  # validation_data 6641"
      ]
    },
    {
      "cell_type": "code",
      "execution_count": 4,
      "metadata": {
        "id": "_gzTZhrzurNX"
      },
      "outputs": [],
      "source": [
        "# 짧은 대화도 있으므로 NAN값을 모두 공백으로 변경\n",
        "df1 = df1.fillna(\"\")\n",
        "df2 = df2.fillna(\"\")\n",
        "\n",
        "df1[\"사람문장\"]=df1[\"사람문장1\"].astype(str)+df1[\"사람문장2\"].astype(str)+df1[\"사람문장3\"].astype(str)\n",
        "df2[\"사람문장\"]=df2[\"사람문장1\"].astype(str)+df2[\"사람문장2\"].astype(str)+df2[\"사람문장3\"].astype(str)"
      ]
    },
    {
      "cell_type": "code",
      "execution_count": 5,
      "metadata": {
        "id": "0BzTt9Rkr3sh"
      },
      "outputs": [],
      "source": [
        "df = pd.concat([df1, df2], ignore_index=True)\n",
        "df = df[[\"감정_대분류\",\"사람문장\"]]\n",
        "df.rename(columns={'사람문장':'문장','감정_대분류':\"감정\"},inplace=True)\n",
        "\n",
        "#컬럼 내 데이터들의 공백(string) 제거\n",
        "df[\"감정\"] = df[\"감정\"].apply(lambda x:x.strip())\n",
        "\n",
        "df[\"감정\"] = np.where(df[\"감정\"].str.match(\"상처\"),\"슬픔\", df[\"감정\"])\n",
        "df[\"감정\"] = np.where(df[\"감정\"].str.match(\"기쁨\"),\"행복\", df[\"감정\"])"
      ]
    },
    {
      "cell_type": "code",
      "execution_count": 6,
      "metadata": {
        "colab": {
          "base_uri": "https://localhost:8080/"
        },
        "id": "Hfv_DqD8zAJ3",
        "outputId": "25457925-d75e-435e-d91b-7a8a27f3d1f1"
      },
      "outputs": [
        {
          "data": {
            "text/plain": [
              "감정\n",
              "슬픔    20278\n",
              "불안    10433\n",
              "분노    10417\n",
              "당황     9804\n",
              "행복     7339\n",
              "Name: count, dtype: int64"
            ]
          },
          "execution_count": 6,
          "metadata": {},
          "output_type": "execute_result"
        }
      ],
      "source": [
        "df[\"감정\"].value_counts()"
      ]
    },
    {
      "cell_type": "code",
      "execution_count": 7,
      "metadata": {
        "colab": {
          "base_uri": "https://localhost:8080/",
          "height": 423
        },
        "id": "oq2ofD6F1idr",
        "outputId": "784ad026-722e-4708-ef6e-e324e89f16b6"
      },
      "outputs": [
        {
          "data": {
            "text/html": [
              "<div>\n",
              "<style scoped>\n",
              "    .dataframe tbody tr th:only-of-type {\n",
              "        vertical-align: middle;\n",
              "    }\n",
              "\n",
              "    .dataframe tbody tr th {\n",
              "        vertical-align: top;\n",
              "    }\n",
              "\n",
              "    .dataframe thead th {\n",
              "        text-align: right;\n",
              "    }\n",
              "</style>\n",
              "<table border=\"1\" class=\"dataframe\">\n",
              "  <thead>\n",
              "    <tr style=\"text-align: right;\">\n",
              "      <th></th>\n",
              "      <th>감정</th>\n",
              "      <th>문장</th>\n",
              "    </tr>\n",
              "  </thead>\n",
              "  <tbody>\n",
              "    <tr>\n",
              "      <th>0</th>\n",
              "      <td>분노</td>\n",
              "      <td>일은 왜 해도 해도 끝이 없을까? 화가 난다.그냥 내가 해결하는 게 나아. 남들한테...</td>\n",
              "    </tr>\n",
              "    <tr>\n",
              "      <th>1</th>\n",
              "      <td>분노</td>\n",
              "      <td>이번 달에 또 급여가 깎였어! 물가는 오르는데 월급만 자꾸 깎이니까 너무 화가 나....</td>\n",
              "    </tr>\n",
              "    <tr>\n",
              "      <th>2</th>\n",
              "      <td>분노</td>\n",
              "      <td>회사에 신입이 들어왔는데 말투가 거슬려. 그런 애를 매일 봐야 한다고 생각하니까 스...</td>\n",
              "    </tr>\n",
              "    <tr>\n",
              "      <th>3</th>\n",
              "      <td>분노</td>\n",
              "      <td>직장에서 막내라는 이유로 나에게만 온갖 심부름을 시켜. 일도 많은 데 정말 분하고 ...</td>\n",
              "    </tr>\n",
              "    <tr>\n",
              "      <th>4</th>\n",
              "      <td>분노</td>\n",
              "      <td>얼마 전 입사한 신입사원이 나를 무시하는 것 같아서 너무 화가 나.상사인 나에게 먼...</td>\n",
              "    </tr>\n",
              "    <tr>\n",
              "      <th>...</th>\n",
              "      <td>...</td>\n",
              "      <td>...</td>\n",
              "    </tr>\n",
              "    <tr>\n",
              "      <th>58266</th>\n",
              "      <td>당황</td>\n",
              "      <td>나랑 비슷한 시기에 결혼하는 친구는 시댁에서 집을 해줘서 너무 부러워. 우리는 대출...</td>\n",
              "    </tr>\n",
              "    <tr>\n",
              "      <th>58267</th>\n",
              "      <td>당황</td>\n",
              "      <td>친구 한 명이 결혼해서 아이를 가졌는데 너무 행복해 보이더라. 기분이 좋지만은 않아...</td>\n",
              "    </tr>\n",
              "    <tr>\n",
              "      <th>58268</th>\n",
              "      <td>당황</td>\n",
              "      <td>남들은 결혼 전에 일억을 모았다는데 난 뭐를 한 것인지 모르겠어. 자괴감만 드네.요...</td>\n",
              "    </tr>\n",
              "    <tr>\n",
              "      <th>58269</th>\n",
              "      <td>당황</td>\n",
              "      <td>나보다 결혼을 먼저 한 친구가 부러워. 그 친구 남편은 직장도 내 남편보다 좋고 키...</td>\n",
              "    </tr>\n",
              "    <tr>\n",
              "      <th>58270</th>\n",
              "      <td>당황</td>\n",
              "      <td>친구들 모두 결혼하고 나만 혼자 남아서 쓸쓸하네.맞아. 하지만 그렇다고 아무나하고 ...</td>\n",
              "    </tr>\n",
              "  </tbody>\n",
              "</table>\n",
              "<p>58271 rows × 2 columns</p>\n",
              "</div>"
            ],
            "text/plain": [
              "       감정                                                 문장\n",
              "0      분노  일은 왜 해도 해도 끝이 없을까? 화가 난다.그냥 내가 해결하는 게 나아. 남들한테...\n",
              "1      분노  이번 달에 또 급여가 깎였어! 물가는 오르는데 월급만 자꾸 깎이니까 너무 화가 나....\n",
              "2      분노  회사에 신입이 들어왔는데 말투가 거슬려. 그런 애를 매일 봐야 한다고 생각하니까 스...\n",
              "3      분노  직장에서 막내라는 이유로 나에게만 온갖 심부름을 시켜. 일도 많은 데 정말 분하고 ...\n",
              "4      분노  얼마 전 입사한 신입사원이 나를 무시하는 것 같아서 너무 화가 나.상사인 나에게 먼...\n",
              "...    ..                                                ...\n",
              "58266  당황  나랑 비슷한 시기에 결혼하는 친구는 시댁에서 집을 해줘서 너무 부러워. 우리는 대출...\n",
              "58267  당황  친구 한 명이 결혼해서 아이를 가졌는데 너무 행복해 보이더라. 기분이 좋지만은 않아...\n",
              "58268  당황  남들은 결혼 전에 일억을 모았다는데 난 뭐를 한 것인지 모르겠어. 자괴감만 드네.요...\n",
              "58269  당황  나보다 결혼을 먼저 한 친구가 부러워. 그 친구 남편은 직장도 내 남편보다 좋고 키...\n",
              "58270  당황  친구들 모두 결혼하고 나만 혼자 남아서 쓸쓸하네.맞아. 하지만 그렇다고 아무나하고 ...\n",
              "\n",
              "[58271 rows x 2 columns]"
            ]
          },
          "execution_count": 7,
          "metadata": {},
          "output_type": "execute_result"
        }
      ],
      "source": [
        "df"
      ]
    },
    {
      "cell_type": "code",
      "execution_count": 8,
      "metadata": {
        "id": "vweP-h5v4dN9"
      },
      "outputs": [],
      "source": [
        "df3 = pd.read_excel('/home/kdt-admin/data/한국어_단발성_대화_데이터셋.xlsx')\n",
        "df4 = pd.read_excel('/home/kdt-admin/data/한국어_연속적_대화_데이터셋.xlsx')"
      ]
    },
    {
      "cell_type": "code",
      "execution_count": 9,
      "metadata": {
        "id": "E2Mr03d84UKL"
      },
      "outputs": [],
      "source": [
        "df3 = df3.iloc[:,:2]\n",
        "df3.rename(columns={'Sentence':\"문장\",'Emotion':'감정'},inplace=True)"
      ]
    },
    {
      "cell_type": "code",
      "execution_count": 10,
      "metadata": {
        "colab": {
          "base_uri": "https://localhost:8080/"
        },
        "id": "mUrG-wlv-qed",
        "outputId": "058e5c63-a75a-4a60-eacb-aef331b3a6e5"
      },
      "outputs": [
        {
          "data": {
            "text/plain": [
              "감정\n",
              "행복    6037\n",
              "분노    5665\n",
              "불안    5468\n",
              "혐오    5429\n",
              "슬픔    5267\n",
              "중립    4830\n",
              "Name: count, dtype: int64"
            ]
          },
          "execution_count": 10,
          "metadata": {},
          "output_type": "execute_result"
        }
      ],
      "source": [
        "df3 = df3[df3[\"감정\"]!=\"놀람\"]\n",
        "df3[\"감정\"] = np.where(df3[\"감정\"].str.match(\"공포\"),\"불안\", df3[\"감정\"])\n",
        "df3[\"감정\"].value_counts()"
      ]
    },
    {
      "cell_type": "code",
      "execution_count": 11,
      "metadata": {
        "id": "CeBab6LWAYEi"
      },
      "outputs": [],
      "source": [
        "# 첫행을 컬럼으로 바꾸기\n",
        "new_columns = df4.iloc[0]\n",
        "df4 = df4.rename(columns=new_columns).iloc[:,1:3]"
      ]
    },
    {
      "cell_type": "code",
      "execution_count": 12,
      "metadata": {
        "id": "BU6sUYVCAZp9"
      },
      "outputs": [],
      "source": [
        "df4.drop(index=0,axis=0,inplace=True)"
      ]
    },
    {
      "cell_type": "code",
      "execution_count": 13,
      "metadata": {
        "colab": {
          "base_uri": "https://localhost:8080/"
        },
        "id": "yw_FRvtNAbKP",
        "outputId": "9faec5cc-2ad0-4b61-c556-3a319214f08a"
      },
      "outputs": [
        {
          "data": {
            "text/plain": [
              "감정\n",
              "중립     43786\n",
              "놀람      4866\n",
              "분노      3628\n",
              "슬픔      1972\n",
              "행복      1030\n",
              "혐오       220\n",
              "공포        98\n",
              "ㅍ         12\n",
              "분          4\n",
              "ㅈ중립        1\n",
              "분ㄴ         1\n",
              "중림         1\n",
              "ㄴ중립        1\n",
              "줄          1\n",
              "Name: count, dtype: int64"
            ]
          },
          "execution_count": 13,
          "metadata": {},
          "output_type": "execute_result"
        }
      ],
      "source": [
        "df4[\"감정\"].value_counts()"
      ]
    },
    {
      "cell_type": "code",
      "execution_count": 14,
      "metadata": {
        "id": "z0CzUtg4AcxW"
      },
      "outputs": [],
      "source": [
        "df4 = df4[df4[\"감정\"].isin([\"중립\",\"놀람\",\"분노\",\"슬픔\",\"행복\",\"혐오\",\"공포\"])]"
      ]
    },
    {
      "cell_type": "code",
      "execution_count": 15,
      "metadata": {
        "colab": {
          "base_uri": "https://localhost:8080/"
        },
        "id": "YSDab9EPAeMg",
        "outputId": "90de14cf-a85c-44c7-cbad-a8dea41a7f87"
      },
      "outputs": [
        {
          "data": {
            "text/plain": [
              "감정\n",
              "중립    43786\n",
              "당황     4866\n",
              "분노     3628\n",
              "슬픔     1972\n",
              "행복     1030\n",
              "혐오      220\n",
              "불안       98\n",
              "Name: count, dtype: int64"
            ]
          },
          "execution_count": 15,
          "metadata": {},
          "output_type": "execute_result"
        }
      ],
      "source": [
        "# 감정 Label 일정하게 맞춰주기 (감성대화 말뭉치와 통합을 위해)\n",
        "\n",
        "df4[\"감정\"] = np.where(df4[\"감정\"].str.match(\"놀람\"),\"당황\", df4[\"감정\"])\n",
        "df4[\"감정\"] = np.where(df4[\"감정\"].str.match(\"공포\"),\"불안\", df4[\"감정\"])\n",
        "df4.rename(columns={'발화':'문장'},inplace=True)\n",
        "df4[\"감정\"].value_counts()"
      ]
    },
    {
      "cell_type": "code",
      "execution_count": 19,
      "metadata": {},
      "outputs": [],
      "source": [
        "df_add = pd.read_csv('/home/kdt-admin/data/sentiment_augmentaition.csv',index_col=0)"
      ]
    },
    {
      "cell_type": "code",
      "execution_count": 21,
      "metadata": {
        "id": "dwvhpGhEAmrB"
      },
      "outputs": [],
      "source": [
        "final_df = pd.concat([df,df3,df4,df_add])"
      ]
    },
    {
      "cell_type": "code",
      "execution_count": 22,
      "metadata": {
        "id": "BgGJBa8VBfHu"
      },
      "outputs": [],
      "source": [
        "final_df.reset_index(drop=True,inplace=True)"
      ]
    },
    {
      "cell_type": "code",
      "execution_count": 24,
      "metadata": {},
      "outputs": [],
      "source": [
        "final_df[\"감정\"] = np.where(final_df[\"감정\"].str.match(\"혐오\"),\"분노\", final_df[\"감정\"])"
      ]
    },
    {
      "cell_type": "code",
      "execution_count": 27,
      "metadata": {
        "colab": {
          "base_uri": "https://localhost:8080/",
          "height": 423
        },
        "id": "QHLE5slGB-TF",
        "outputId": "d69ba0e2-078d-43c6-c85e-ad5ee5b33d51"
      },
      "outputs": [
        {
          "data": {
            "text/plain": [
              "감정\n",
              "중립    48616\n",
              "행복    28313\n",
              "슬픔    27517\n",
              "불안    27398\n",
              "분노    25359\n",
              "당황    21273\n",
              "Name: count, dtype: int64"
            ]
          },
          "execution_count": 27,
          "metadata": {},
          "output_type": "execute_result"
        }
      ],
      "source": [
        "final_df[\"감정\"].value_counts()"
      ]
    },
    {
      "cell_type": "code",
      "execution_count": 19,
      "metadata": {
        "id": "Ytj_JNK5DCWK"
      },
      "outputs": [],
      "source": [
        "final_df.to_csv(\"final_sentiment_dialogues.csv\")"
      ]
    }
  ],
  "metadata": {
    "colab": {
      "provenance": []
    },
    "kernelspec": {
      "display_name": "Python 3",
      "name": "python3"
    },
    "language_info": {
      "codemirror_mode": {
        "name": "ipython",
        "version": 3
      },
      "file_extension": ".py",
      "mimetype": "text/x-python",
      "name": "python",
      "nbconvert_exporter": "python",
      "pygments_lexer": "ipython3",
      "version": "3.12.2"
    }
  },
  "nbformat": 4,
  "nbformat_minor": 0
}
