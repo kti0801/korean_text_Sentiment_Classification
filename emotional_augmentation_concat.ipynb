{
  "cells": [
    {
      "cell_type": "markdown",
      "metadata": {
        "id": "q7Dsxz-BraUs"
      },
      "source": [
        "## 필요한 패키지"
      ]
    },
    {
      "cell_type": "code",
      "execution_count": 1,
      "metadata": {
        "colab": {
          "base_uri": "https://localhost:8080/"
        },
        "id": "fsAIBqRyqjrs",
        "outputId": "0a238463-6e75-488d-b87a-38b75504b8cf"
      },
      "outputs": [],
      "source": [
        "import numpy as np\n",
        "import pandas as pd\n",
        "import re\n",
        "import csv"
      ]
    },
    {
      "cell_type": "code",
      "execution_count": 2,
      "metadata": {},
      "outputs": [],
      "source": [
        "pd.set_option('display.max_row',None)"
      ]
    },
    {
      "cell_type": "markdown",
      "metadata": {
        "id": "GbgGkRyhrLKZ"
      },
      "source": [
        "## 구글 텍스트 생성형 AI gemini API로 추출한 데이터\n",
        "\n",
        "행복 13968\n",
        "\n",
        "불안 11526\n",
        "\n",
        "당황 6662\n",
        "\n"
      ]
    },
    {
      "cell_type": "code",
      "execution_count": 3,
      "metadata": {
        "id": "E_gq9a7eq4po"
      },
      "outputs": [],
      "source": [
        "# 엑셀 파일 읽기\n",
        "df1 = pd.read_csv('/home/kdt-admin/data/sentiment_happyness.csv',index_col=0)  \n",
        "df2 = pd.read_csv('/home/kdt-admin/data/sentiment_anxious.csv',index_col=0) \n",
        "df3 = pd.read_csv('/home/kdt-admin/data/sentiment_suprised.csv',index_col=0) "
      ]
    },
    {
      "cell_type": "code",
      "execution_count": 4,
      "metadata": {
        "id": "_gzTZhrzurNX"
      },
      "outputs": [],
      "source": [
        "# 짧은 대화도 있으므로 NAN값을 모두 공백으로 변경\n",
        "df1 = df1.fillna(\"\")\n",
        "df2 = df2.fillna(\"\")\n",
        "df3 = df3.fillna(\"\")"
      ]
    },
    {
      "cell_type": "code",
      "execution_count": 5,
      "metadata": {
        "id": "0BzTt9Rkr3sh"
      },
      "outputs": [],
      "source": [
        "#컬럼 내 데이터들의 공백(string) 제거\n",
        "df1[\"감정\"] = df1[\"감정\"].apply(lambda x:x.strip())\n",
        "df2[\"감정\"] = df2[\"감정\"].apply(lambda x:x.strip())\n",
        "df3[\"감정\"] = df3[\"감정\"].apply(lambda x:x.strip())"
      ]
    },
    {
      "cell_type": "code",
      "execution_count": 6,
      "metadata": {
        "colab": {
          "base_uri": "https://localhost:8080/"
        },
        "id": "Hfv_DqD8zAJ3",
        "outputId": "25457925-d75e-435e-d91b-7a8a27f3d1f1"
      },
      "outputs": [
        {
          "name": "stdout",
          "output_type": "stream",
          "text": [
            "감정\n",
            "행복    13968\n",
            "Name: count, dtype: int64\n",
            "감정\n",
            "불안    11526\n",
            "Name: count, dtype: int64\n",
            "감정\n",
            "당황    6662\n",
            "Name: count, dtype: int64\n"
          ]
        }
      ],
      "source": [
        "print(df1[\"감정\"].value_counts())\n",
        "print(df2[\"감정\"].value_counts())\n",
        "print(df3[\"감정\"].value_counts())"
      ]
    },
    {
      "cell_type": "code",
      "execution_count": 7,
      "metadata": {
        "colab": {
          "base_uri": "https://localhost:8080/",
          "height": 423
        },
        "id": "oq2ofD6F1idr",
        "outputId": "784ad026-722e-4708-ef6e-e324e89f16b6"
      },
      "outputs": [],
      "source": [
        "def clean_text(df):\n",
        "    # 이모티콘 및 모든 특수문자 제거\n",
        "    df['문장'] = df['문장'].apply(lambda x: re.sub('[^\\w\\s]', '', x))\n",
        "    # 빈 문자열로 남은 행 제거\n",
        "    df = df[df['문장'].str.strip() != '']\n",
        "    # 한글이 아닌 값이 하나라도 있다면 제거\n",
        "    df = df[~df['문장'].str.contains('[^ㄱ-ㅎㅏ-ㅣ가-힣 ]+', regex=True)]\n",
        "    # 데이터프레임 인덱스 초기화\n",
        "    df.reset_index(drop=True, inplace=True)\n",
        "    return df"
      ]
    },
    {
      "cell_type": "code",
      "execution_count": 8,
      "metadata": {},
      "outputs": [],
      "source": [
        "df1 = clean_text(df1)\n",
        "df2 = clean_text(df2)\n",
        "df3 = clean_text(df3)"
      ]
    },
    {
      "cell_type": "code",
      "execution_count": 9,
      "metadata": {},
      "outputs": [
        {
          "name": "stdout",
          "output_type": "stream",
          "text": [
            "감정\n",
            "행복    13907\n",
            "Name: count, dtype: int64\n",
            "감정\n",
            "불안    11399\n",
            "Name: count, dtype: int64\n",
            "감정\n",
            "당황    6603\n",
            "Name: count, dtype: int64\n"
          ]
        }
      ],
      "source": [
        "print(df1[\"감정\"].value_counts())\n",
        "print(df2[\"감정\"].value_counts())\n",
        "print(df3[\"감정\"].value_counts())"
      ]
    },
    {
      "cell_type": "code",
      "execution_count": 11,
      "metadata": {
        "id": "dwvhpGhEAmrB"
      },
      "outputs": [],
      "source": [
        "df = pd.concat([df1,df2,df3])"
      ]
    },
    {
      "cell_type": "code",
      "execution_count": 12,
      "metadata": {
        "id": "BgGJBa8VBfHu"
      },
      "outputs": [],
      "source": [
        "df.reset_index(drop=True,inplace=True)"
      ]
    },
    {
      "cell_type": "code",
      "execution_count": 14,
      "metadata": {},
      "outputs": [
        {
          "name": "stdout",
          "output_type": "stream",
          "text": [
            "<class 'pandas.core.frame.DataFrame'>\n",
            "RangeIndex: 31909 entries, 0 to 31908\n",
            "Data columns (total 2 columns):\n",
            " #   Column  Non-Null Count  Dtype \n",
            "---  ------  --------------  ----- \n",
            " 0   감정      31909 non-null  object\n",
            " 1   문장      31909 non-null  object\n",
            "dtypes: object(2)\n",
            "memory usage: 498.7+ KB\n"
          ]
        }
      ],
      "source": [
        "df.info()"
      ]
    },
    {
      "cell_type": "code",
      "execution_count": 16,
      "metadata": {
        "id": "Ytj_JNK5DCWK"
      },
      "outputs": [],
      "source": [
        "df.to_csv(\"sentiment_augmentaition.csv\")"
      ]
    }
  ],
  "metadata": {
    "colab": {
      "provenance": []
    },
    "kernelspec": {
      "display_name": "Python 3",
      "name": "python3"
    },
    "language_info": {
      "codemirror_mode": {
        "name": "ipython",
        "version": 3
      },
      "file_extension": ".py",
      "mimetype": "text/x-python",
      "name": "python",
      "nbconvert_exporter": "python",
      "pygments_lexer": "ipython3",
      "version": "3.10.9"
    }
  },
  "nbformat": 4,
  "nbformat_minor": 0
}
